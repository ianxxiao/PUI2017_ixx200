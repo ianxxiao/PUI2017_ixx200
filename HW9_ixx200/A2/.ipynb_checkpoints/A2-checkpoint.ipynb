{
 "cells": [
  {
   "cell_type": "markdown",
   "metadata": {},
   "source": [
    "# Overview\n",
    "\n",
    "This notebook includes analysis of US Census and linkNYC (public wifi) location. The objective is to assess if linkNYC is providing useful service and filling in a need.\n",
    "\n",
    "### Data Sources\n",
    "- Census: National survey data\n",
    "- PUMA: Public Use Microdata Area\n",
    "- American Fact Finder: percentage of houses with broadband internet access\n",
    "- LinkNYC: locations of linkNYC stations\n",
    "\n",
    "### Tools\n",
    "- Geopandas: spatial analysis using Python\n",
    "- API: data access through API request"
   ]
  },
  {
   "cell_type": "markdown",
   "metadata": {},
   "source": [
    "---\n",
    "\n",
    "## 1) Get and Visualize PUMA Data"
   ]
  },
  {
   "cell_type": "code",
   "execution_count": 23,
   "metadata": {},
   "outputs": [
    {
     "name": "stdout",
     "output_type": "stream",
     "text": [
      "Populating the interactive namespace from numpy and matplotlib\n"
     ]
    }
   ],
   "source": [
    "# Python 2 AND 3 Compatibility Importing\n",
    "\n",
    "try:\n",
    "    # Python 3\n",
    "    from urllib.parse import urlparse, urlencode\n",
    "    from urllib.request import urlopen, Request\n",
    "    from urllib.error import HTTPError\n",
    "    from urllib import urlretrieve\n",
    "except ImportError:\n",
    "    # Python 2\n",
    "    from urlparse import urlparse\n",
    "    from urllib import urlencode\n",
    "    from urllib import urlretrieve\n",
    "    from urllib2 import urlopen, Request, HTTPError\n",
    "\n",
    "import requests\n",
    "import pandas as pd\n",
    "import geopandas as gpd \n",
    "import matplotlib.pylab as plt\n",
    "import gzip\n",
    "import glob\n",
    "import os.path\n",
    "import sys\n",
    "import json\n",
    "%pylab inline"
   ]
  },
  {
   "cell_type": "code",
   "execution_count": 13,
   "metadata": {},
   "outputs": [
    {
     "name": "stdout",
     "output_type": "stream",
     "text": [
      "Archive:  file.zip\r\n",
      "  inflating: nypuma_17c/nypuma.shp   \r\n",
      "  inflating: nypuma_17c/nypuma.dbf   \r\n",
      "  inflating: nypuma_17c/nypuma.shx   \r\n",
      "  inflating: nypuma_17c/nypuma.prj   \r\n",
      "  inflating: nypuma_17c/nypuma.shp.xml  \r\n"
     ]
    }
   ],
   "source": [
    "url = 'https://data.cityofnewyork.us/api/geospatial/cwiz-gcty?method=export&format=Original'\n",
    "\n",
    "try:\n",
    "    urlretrieve(url, \"file.zip\")\n",
    "    if os.path.isfile(\"./nypuma_17c/nypuma.shp\"):\n",
    "        print(\"Files exist. Pass.\")\n",
    "    else:\n",
    "        !unzip file.zip\n",
    "except:\n",
    "    urlretrieve(url, \"file.zip\")\n",
    "    if os.path.isfile(\"./nypuma_17c/nypuma.shp\"):\n",
    "        print(\"Files exist. Pass.\")\n",
    "    else:\n",
    "        !unzip file.zip"
   ]
  },
  {
   "cell_type": "code",
   "execution_count": 14,
   "metadata": {
    "collapsed": true
   },
   "outputs": [],
   "source": [
    "# Read PUMA shape file\n",
    "puma_df = gpd.GeoDataFrame.from_file(\"./nypuma_17c/nypuma.shp\")"
   ]
  },
  {
   "cell_type": "code",
   "execution_count": 15,
   "metadata": {},
   "outputs": [
    {
     "data": {
      "text/html": [
       "<div>\n",
       "<style>\n",
       "    .dataframe thead tr:only-child th {\n",
       "        text-align: right;\n",
       "    }\n",
       "\n",
       "    .dataframe thead th {\n",
       "        text-align: left;\n",
       "    }\n",
       "\n",
       "    .dataframe tbody tr th {\n",
       "        vertical-align: top;\n",
       "    }\n",
       "</style>\n",
       "<table border=\"1\" class=\"dataframe\">\n",
       "  <thead>\n",
       "    <tr style=\"text-align: right;\">\n",
       "      <th></th>\n",
       "      <th>PUMA</th>\n",
       "      <th>Shape_Leng</th>\n",
       "      <th>Shape_Area</th>\n",
       "      <th>geometry</th>\n",
       "    </tr>\n",
       "  </thead>\n",
       "  <tbody>\n",
       "    <tr>\n",
       "      <th>0</th>\n",
       "      <td>3701</td>\n",
       "      <td>53227.144376</td>\n",
       "      <td>9.792852e+07</td>\n",
       "      <td>POLYGON ((1012885.033996582 268830.4841918945,...</td>\n",
       "    </tr>\n",
       "    <tr>\n",
       "      <th>1</th>\n",
       "      <td>3702</td>\n",
       "      <td>106050.008344</td>\n",
       "      <td>1.889860e+08</td>\n",
       "      <td>POLYGON ((1021632.335632324 267934.4393920898,...</td>\n",
       "    </tr>\n",
       "    <tr>\n",
       "      <th>2</th>\n",
       "      <td>3703</td>\n",
       "      <td>304875.033427</td>\n",
       "      <td>2.670770e+08</td>\n",
       "      <td>(POLYGON ((1042822.450195312 243439.8142089844...</td>\n",
       "    </tr>\n",
       "    <tr>\n",
       "      <th>3</th>\n",
       "      <td>3704</td>\n",
       "      <td>47970.900868</td>\n",
       "      <td>1.062129e+08</td>\n",
       "      <td>POLYGON ((1026308.769592285 256767.6972045898,...</td>\n",
       "    </tr>\n",
       "    <tr>\n",
       "      <th>4</th>\n",
       "      <td>3705</td>\n",
       "      <td>68593.066759</td>\n",
       "      <td>1.224946e+08</td>\n",
       "      <td>POLYGON ((1020080.524597168 255041.8771972656,...</td>\n",
       "    </tr>\n",
       "    <tr>\n",
       "      <th>5</th>\n",
       "      <td>3706</td>\n",
       "      <td>51799.404764</td>\n",
       "      <td>4.388687e+07</td>\n",
       "      <td>POLYGON ((1008237.008422852 252471.6857910156,...</td>\n",
       "    </tr>\n",
       "    <tr>\n",
       "      <th>6</th>\n",
       "      <td>3707</td>\n",
       "      <td>37347.926177</td>\n",
       "      <td>4.228113e+07</td>\n",
       "      <td>POLYGON ((1008237.008422852 252471.6857910156,...</td>\n",
       "    </tr>\n",
       "    <tr>\n",
       "      <th>7</th>\n",
       "      <td>3708</td>\n",
       "      <td>34853.551314</td>\n",
       "      <td>5.589653e+07</td>\n",
       "      <td>POLYGON ((1005060.892822266 247052.5200195312,...</td>\n",
       "    </tr>\n",
       "    <tr>\n",
       "      <th>8</th>\n",
       "      <td>3709</td>\n",
       "      <td>73289.990781</td>\n",
       "      <td>1.241170e+08</td>\n",
       "      <td>(POLYGON ((1029456.000793457 237188.9177856445...</td>\n",
       "    </tr>\n",
       "    <tr>\n",
       "      <th>9</th>\n",
       "      <td>3710</td>\n",
       "      <td>91116.970113</td>\n",
       "      <td>1.377977e+08</td>\n",
       "      <td>(POLYGON ((1012821.805786133 229228.2645874023...</td>\n",
       "    </tr>\n",
       "  </tbody>\n",
       "</table>\n",
       "</div>"
      ],
      "text/plain": [
       "   PUMA     Shape_Leng    Shape_Area  \\\n",
       "0  3701   53227.144376  9.792852e+07   \n",
       "1  3702  106050.008344  1.889860e+08   \n",
       "2  3703  304875.033427  2.670770e+08   \n",
       "3  3704   47970.900868  1.062129e+08   \n",
       "4  3705   68593.066759  1.224946e+08   \n",
       "5  3706   51799.404764  4.388687e+07   \n",
       "6  3707   37347.926177  4.228113e+07   \n",
       "7  3708   34853.551314  5.589653e+07   \n",
       "8  3709   73289.990781  1.241170e+08   \n",
       "9  3710   91116.970113  1.377977e+08   \n",
       "\n",
       "                                            geometry  \n",
       "0  POLYGON ((1012885.033996582 268830.4841918945,...  \n",
       "1  POLYGON ((1021632.335632324 267934.4393920898,...  \n",
       "2  (POLYGON ((1042822.450195312 243439.8142089844...  \n",
       "3  POLYGON ((1026308.769592285 256767.6972045898,...  \n",
       "4  POLYGON ((1020080.524597168 255041.8771972656,...  \n",
       "5  POLYGON ((1008237.008422852 252471.6857910156,...  \n",
       "6  POLYGON ((1008237.008422852 252471.6857910156,...  \n",
       "7  POLYGON ((1005060.892822266 247052.5200195312,...  \n",
       "8  (POLYGON ((1029456.000793457 237188.9177856445...  \n",
       "9  (POLYGON ((1012821.805786133 229228.2645874023...  "
      ]
     },
     "execution_count": 15,
     "metadata": {},
     "output_type": "execute_result"
    }
   ],
   "source": [
    "puma_df.head(10)"
   ]
  },
  {
   "cell_type": "code",
   "execution_count": 16,
   "metadata": {},
   "outputs": [
    {
     "name": "stdout",
     "output_type": "stream",
     "text": [
      "Files already exist. Skip Download.\n",
      "choroplethNYC import complete\n"
     ]
    }
   ],
   "source": [
    "# Install choroplethNYC package if needed\n",
    "# Import choroplethNYC package\n",
    "\n",
    "try:\n",
    "    if os.path.exists(\"./choroplethNYC\"):\n",
    "        print(\"Files already exist. Skip Download.\")\n",
    "        cwd = os.getcwd()\n",
    "        sys.path.append(cwd + \"/choroplethNYC\")\n",
    "        import choroplethNYC as cp\n",
    "        print(\"choroplethNYC import complete\")\n",
    "    else:\n",
    "        !git clone https://github.com/fedhere/choroplethNYC.git\n",
    "        cwd = os.getcwd()\n",
    "        sys.path.append(cwd + \"/choroplethNYC\")\n",
    "        import choroplethNYC as cp\n",
    "        print(\"choroplethNYC import complete\")\n",
    "except Exception as e:\n",
    "    print(e)\n",
    "    print(\"exit...\")"
   ]
  },
  {
   "cell_type": "code",
   "execution_count": 338,
   "metadata": {},
   "outputs": [
    {
     "data": {
      "image/png": "[encoded data removed]",
      "text/plain": [
       "<matplotlib.figure.Figure at 0x12441a3d0>"
      ]
     },
     "metadata": {},
     "output_type": "display_data"
    }
   ],
   "source": [
    "# plot PUMA data using ChoroplethNYC package\n",
    "f = cp.choroplethNYC(puma_df, column=None, color=\"grey\", edgecolor=\"black\");"
   ]
  },
  {
   "cell_type": "markdown",
   "metadata": {},
   "source": [
    "## Figure 1\n",
    "This is a spatial graph of PUMA data of NYC. PUMAs are statistical geographic areas defined for the dissemination of Public Use Microdata Sample. PUMAs have a minimum population of 100,000, are aggregated from census tracts, and approximate Community Districts (CDs), or combinations of CDs. This geography is also used for disseminating American Community Survey (ACS) estmates."
   ]
  },
  {
   "cell_type": "markdown",
   "metadata": {},
   "source": [
    "---\n",
    "\n",
    "## 2) Get Broadband Usage Data from American Fact Finder"
   ]
  },
  {
   "cell_type": "code",
   "execution_count": 31,
   "metadata": {},
   "outputs": [],
   "source": [
    "url = \"https://api.census.gov/data/2016/acs/acs1/variables.json\"\n",
    "resp = requests.request(\"GET\", url)\n",
    "aff1y = json.loads(resp.text)"
   ]
  },
  {
   "cell_type": "code",
   "execution_count": 32,
   "metadata": {},
   "outputs": [],
   "source": [
    "try:\n",
    "    # python 2\n",
    "    affkeys = np.array(aff1y['variables'].keys())\n",
    "except:\n",
    "    # python 3\n",
    "    affkeys = np.array(list(aff1y['variables'].keys()))"
   ]
  },
  {
   "cell_type": "code",
   "execution_count": 33,
   "metadata": {},
   "outputs": [
    {
     "data": {
      "text/plain": [
       "[(u'B28002_008E',\n",
       "  u'Estimate!!Total!!With an Internet subscription!!Broadband such as cable, fiber optic or DSL!!Broadband such as cable, fiber optic or DSL with no other type of Internet subscription'),\n",
       " (u'B28002_008M',\n",
       "  u'Margin of Error!!Total!!With an Internet subscription!!Broadband such as cable, fiber optic or DSL!!Broadband such as cable, fiber optic or DSL with no other type of Internet subscription'),\n",
       " (u'B28002_004MA',\n",
       "  u'Annotation of Margin of Error!!Total!!With an Internet subscription!!Broadband of any type'),\n",
       " (u'B28002_008MA',\n",
       "  u'Annotation of Margin of Error!!Total!!With an Internet subscription!!Broadband such as cable, fiber optic or DSL!!Broadband such as cable, fiber optic or DSL with no other type of Internet subscription'),\n",
       " (u'B28002_004E',\n",
       "  u'Estimate!!Total!!With an Internet subscription!!Broadband of any type'),\n",
       " (u'B28002_004M',\n",
       "  u'Margin of Error!!Total!!With an Internet subscription!!Broadband of any type'),\n",
       " (u'B28002_007MA',\n",
       "  u'Annotation of Margin of Error!!Total!!With an Internet subscription!!Broadband such as cable, fiber optic or DSL'),\n",
       " (u'B28002_007EA',\n",
       "  u'Annotation of Estimate!!Total!!With an Internet subscription!!Broadband such as cable, fiber optic or DSL'),\n",
       " (u'B28002_004EA',\n",
       "  u'Annotation of Estimate!!Total!!With an Internet subscription!!Broadband of any type'),\n",
       " (u'B28002_008EA',\n",
       "  u'Annotation of Estimate!!Total!!With an Internet subscription!!Broadband such as cable, fiber optic or DSL!!Broadband such as cable, fiber optic or DSL with no other type of Internet subscription'),\n",
       " (u'B28002_007M',\n",
       "  u'Margin of Error!!Total!!With an Internet subscription!!Broadband such as cable, fiber optic or DSL'),\n",
       " (u'B28002_007E',\n",
       "  u'Estimate!!Total!!With an Internet subscription!!Broadband such as cable, fiber optic or DSL')]"
      ]
     },
     "execution_count": 33,
     "metadata": {},
     "output_type": "execute_result"
    }
   ],
   "source": [
    "#extracting variables of B28002 that contain \"broadband\"\n",
    "[(k, aff1y['variables'][k]['label'])  for k in affkeys if k.startswith (\"B28002\") and \n",
    " 'Broadband' in aff1y['variables'][k]['label']]"
   ]
  },
  {
   "cell_type": "markdown",
   "metadata": {},
   "source": [
    "## THE REST TO BE UPDATED\n",
    "\n",
    "Not sure why we are doing this if the data is available for download ... "
   ]
  },
  {
   "cell_type": "code",
   "execution_count": 55,
   "metadata": {},
   "outputs": [
    {
     "name": "stdout",
     "output_type": "stream",
     "text": [
      "Archive:  ACS_16_1YR_GCT2801.zip\r\n",
      "  inflating: ACS_16_1YR_GCT2801.ST50_with_ann.csv  \r\n",
      "  inflating: ACS_16_1YR_GCT2801.ST50_metadata.csv  \r\n",
      "  inflating: ACS_16_1YR_GCT2801.ST50.txt  \r\n",
      "  inflating: aff_download_readme_ann.txt  \r\n"
     ]
    }
   ],
   "source": [
    "# download Broadband survey data from Dropbox if it's not already exist\n",
    "\n",
    "url = 'https://www.dropbox.com/s/uxu2ownozbdy1xf/ACS_16_1YR_GCT2801.ST50.zip?dl=1'\n",
    "\n",
    "if os.path.isdir(\"ACS_16_1YR_GCT2801.zip\"):\n",
    "    print(\"File already exist. Pass.\")\n",
    "else:\n",
    "    urlretrieve(url, \"ACS_16_1YR_GCT2801.zip\")\n",
    "    !unzip ACS_16_1YR_GCT2801.zip"
   ]
  },
  {
   "cell_type": "code",
   "execution_count": 84,
   "metadata": {},
   "outputs": [
    {
     "data": {
      "text/html": [
       "<div>\n",
       "<style>\n",
       "    .dataframe thead tr:only-child th {\n",
       "        text-align: right;\n",
       "    }\n",
       "\n",
       "    .dataframe thead th {\n",
       "        text-align: left;\n",
       "    }\n",
       "\n",
       "    .dataframe tbody tr th {\n",
       "        vertical-align: top;\n",
       "    }\n",
       "</style>\n",
       "<table border=\"1\" class=\"dataframe\">\n",
       "  <thead>\n",
       "    <tr style=\"text-align: right;\">\n",
       "      <th></th>\n",
       "      <th>GEO.display-label</th>\n",
       "      <th>GCT_STUB.target-geo-id2</th>\n",
       "      <th>HC01</th>\n",
       "      <th>HC02</th>\n",
       "    </tr>\n",
       "  </thead>\n",
       "  <tbody>\n",
       "    <tr>\n",
       "      <th>1</th>\n",
       "      <td>Alabama</td>\n",
       "      <td>01</td>\n",
       "      <td>74.7</td>\n",
       "      <td>0.5</td>\n",
       "    </tr>\n",
       "    <tr>\n",
       "      <th>2</th>\n",
       "      <td>Alabama</td>\n",
       "      <td>0100100</td>\n",
       "      <td>70.9</td>\n",
       "      <td>2.5</td>\n",
       "    </tr>\n",
       "    <tr>\n",
       "      <th>3</th>\n",
       "      <td>Alabama</td>\n",
       "      <td>0100200</td>\n",
       "      <td>80.5</td>\n",
       "      <td>2.7</td>\n",
       "    </tr>\n",
       "    <tr>\n",
       "      <th>4</th>\n",
       "      <td>Alabama</td>\n",
       "      <td>0100301</td>\n",
       "      <td>87.0</td>\n",
       "      <td>2.8</td>\n",
       "    </tr>\n",
       "    <tr>\n",
       "      <th>5</th>\n",
       "      <td>Alabama</td>\n",
       "      <td>0100302</td>\n",
       "      <td>81.9</td>\n",
       "      <td>2.9</td>\n",
       "    </tr>\n",
       "  </tbody>\n",
       "</table>\n",
       "</div>"
      ],
      "text/plain": [
       "  GEO.display-label GCT_STUB.target-geo-id2  HC01 HC02\n",
       "1           Alabama                      01  74.7  0.5\n",
       "2           Alabama                 0100100  70.9  2.5\n",
       "3           Alabama                 0100200  80.5  2.7\n",
       "4           Alabama                 0100301  87.0  2.8\n",
       "5           Alabama                 0100302  81.9  2.9"
      ]
     },
     "execution_count": 84,
     "metadata": {},
     "output_type": "execute_result"
    }
   ],
   "source": [
    "# read the broadband data into a dataframe\n",
    "\n",
    "bbpc = pd.read_csv(\"ACS_16_1YR_GCT2801.ST50_with_ann.csv\",\n",
    "            usecols=[\"GEO.display-label\",\"GCT_STUB.target-geo-id2\",\"HC01\",\"HC02\"])\n",
    "bbpc.drop(0, inplace = True)\n",
    "bbpc.head()"
   ]
  },
  {
   "cell_type": "code",
   "execution_count": 85,
   "metadata": {},
   "outputs": [
    {
     "data": {
      "text/html": [
       "<div>\n",
       "<style>\n",
       "    .dataframe thead tr:only-child th {\n",
       "        text-align: right;\n",
       "    }\n",
       "\n",
       "    .dataframe thead th {\n",
       "        text-align: left;\n",
       "    }\n",
       "\n",
       "    .dataframe tbody tr th {\n",
       "        vertical-align: top;\n",
       "    }\n",
       "</style>\n",
       "<table border=\"1\" class=\"dataframe\">\n",
       "  <thead>\n",
       "    <tr style=\"text-align: right;\">\n",
       "      <th></th>\n",
       "      <th>GEO.display-label</th>\n",
       "      <th>GCT_STUB.target-geo-id2</th>\n",
       "      <th>HC01</th>\n",
       "      <th>HC02</th>\n",
       "    </tr>\n",
       "  </thead>\n",
       "  <tbody>\n",
       "    <tr>\n",
       "      <th>1412</th>\n",
       "      <td>New York</td>\n",
       "      <td>36</td>\n",
       "      <td>81.7</td>\n",
       "      <td>0.2</td>\n",
       "    </tr>\n",
       "    <tr>\n",
       "      <th>1413</th>\n",
       "      <td>New York</td>\n",
       "      <td>3600100</td>\n",
       "      <td>80.6</td>\n",
       "      <td>2.6</td>\n",
       "    </tr>\n",
       "    <tr>\n",
       "      <th>1414</th>\n",
       "      <td>New York</td>\n",
       "      <td>3600200</td>\n",
       "      <td>75.7</td>\n",
       "      <td>2.2</td>\n",
       "    </tr>\n",
       "    <tr>\n",
       "      <th>1415</th>\n",
       "      <td>New York</td>\n",
       "      <td>3600300</td>\n",
       "      <td>79.8</td>\n",
       "      <td>2.6</td>\n",
       "    </tr>\n",
       "    <tr>\n",
       "      <th>1416</th>\n",
       "      <td>New York</td>\n",
       "      <td>3600401</td>\n",
       "      <td>81.4</td>\n",
       "      <td>2.4</td>\n",
       "    </tr>\n",
       "  </tbody>\n",
       "</table>\n",
       "</div>"
      ],
      "text/plain": [
       "     GEO.display-label GCT_STUB.target-geo-id2  HC01 HC02\n",
       "1412          New York                      36  81.7  0.2\n",
       "1413          New York                 3600100  80.6  2.6\n",
       "1414          New York                 3600200  75.7  2.2\n",
       "1415          New York                 3600300  79.8  2.6\n",
       "1416          New York                 3600401  81.4  2.4"
      ]
     },
     "execution_count": 85,
     "metadata": {},
     "output_type": "execute_result"
    }
   ],
   "source": [
    "bbpc_nyc = bbpc[(bbpc['GEO.display-label'] == \"New York\")]\n",
    "bbpc_nyc.head()"
   ]
  },
  {
   "cell_type": "markdown",
   "metadata": {},
   "source": [
    "### check that the percentage of households with broadband you generated and the one you red in from the table you downloaded manually are the same\n",
    "\n",
    "TBD"
   ]
  },
  {
   "cell_type": "markdown",
   "metadata": {},
   "source": [
    "--- \n",
    "\n",
    "## 3) Plot a Choropleth of NYC Broadband Access\n"
   ]
  },
  {
   "cell_type": "code",
   "execution_count": 293,
   "metadata": {},
   "outputs": [
    {
     "name": "stderr",
     "output_type": "stream",
     "text": [
      "/Users/Ian/anaconda/lib/python2.7/site-packages/ipykernel_launcher.py:1: SettingWithCopyWarning: \n",
      "A value is trying to be set on a copy of a slice from a DataFrame.\n",
      "Try using .loc[row_indexer,col_indexer] = value instead\n",
      "\n",
      "See the caveats in the documentation: http://pandas.pydata.org/pandas-docs/stable/indexing.html#indexing-view-versus-copy\n",
      "  \"\"\"Entry point for launching an IPython kernel.\n",
      "/Users/Ian/anaconda/lib/python2.7/site-packages/ipykernel_launcher.py:2: SettingWithCopyWarning: \n",
      "A value is trying to be set on a copy of a slice from a DataFrame.\n",
      "Try using .loc[row_indexer,col_indexer] = value instead\n",
      "\n",
      "See the caveats in the documentation: http://pandas.pydata.org/pandas-docs/stable/indexing.html#indexing-view-versus-copy\n",
      "  \n"
     ]
    }
   ],
   "source": [
    "bbpc_nyc[\"GCT_STUB.target-geo-id2\"] = bbpc_nyc[\"GCT_STUB.target-geo-id2\"].astype(int)\n",
    "bbpc_nyc[\"PUMA_id\"] = bbpc_nyc[\"GCT_STUB.target-geo-id2\"] - 3600000\n",
    "puma_df['PUMA'] = puma_df['PUMA'].astype(int)\n",
    "puma_df = puma_df.merge(bbpc_nyc, how = \"left\", left_on = \"PUMA\", right_on = \"PUMA_id\")"
   ]
  },
  {
   "cell_type": "code",
   "execution_count": 294,
   "metadata": {},
   "outputs": [
    {
     "data": {
      "text/html": [
       "<div>\n",
       "<style>\n",
       "    .dataframe thead tr:only-child th {\n",
       "        text-align: right;\n",
       "    }\n",
       "\n",
       "    .dataframe thead th {\n",
       "        text-align: left;\n",
       "    }\n",
       "\n",
       "    .dataframe tbody tr th {\n",
       "        vertical-align: top;\n",
       "    }\n",
       "</style>\n",
       "<table border=\"1\" class=\"dataframe\">\n",
       "  <thead>\n",
       "    <tr style=\"text-align: right;\">\n",
       "      <th></th>\n",
       "      <th>PUMA</th>\n",
       "      <th>Shape_Leng</th>\n",
       "      <th>Shape_Area</th>\n",
       "      <th>geometry</th>\n",
       "      <th>GEO.display-label</th>\n",
       "      <th>GCT_STUB.target-geo-id2</th>\n",
       "      <th>HC01</th>\n",
       "      <th>HC02</th>\n",
       "      <th>PUMA_id</th>\n",
       "    </tr>\n",
       "  </thead>\n",
       "  <tbody>\n",
       "    <tr>\n",
       "      <th>49</th>\n",
       "      <td>4109</td>\n",
       "      <td>95285.371730</td>\n",
       "      <td>1.669799e+08</td>\n",
       "      <td>POLYGON ((1011466.965820312 216463.0051879883,...</td>\n",
       "      <td>New York</td>\n",
       "      <td>3604109</td>\n",
       "      <td>85.1</td>\n",
       "      <td>2.4</td>\n",
       "      <td>4109</td>\n",
       "    </tr>\n",
       "    <tr>\n",
       "      <th>40</th>\n",
       "      <td>4018</td>\n",
       "      <td>76143.432445</td>\n",
       "      <td>9.599590e+07</td>\n",
       "      <td>POLYGON ((992169.2720336914 156843.4053955078,...</td>\n",
       "      <td>New York</td>\n",
       "      <td>3604018</td>\n",
       "      <td>79.3</td>\n",
       "      <td>2.4</td>\n",
       "      <td>4018</td>\n",
       "    </tr>\n",
       "    <tr>\n",
       "      <th>11</th>\n",
       "      <td>3802</td>\n",
       "      <td>37925.007815</td>\n",
       "      <td>4.689674e+07</td>\n",
       "      <td>POLYGON ((992248.5795898438 232849.4352416992,...</td>\n",
       "      <td>New York</td>\n",
       "      <td>3603802</td>\n",
       "      <td>80.2</td>\n",
       "      <td>3.9</td>\n",
       "      <td>3802</td>\n",
       "    </tr>\n",
       "    <tr>\n",
       "      <th>27</th>\n",
       "      <td>4005</td>\n",
       "      <td>95474.334642</td>\n",
       "      <td>1.145092e+08</td>\n",
       "      <td>POLYGON ((992656.6069946289 185330.0338134766,...</td>\n",
       "      <td>New York</td>\n",
       "      <td>3604005</td>\n",
       "      <td>89.4</td>\n",
       "      <td>2.4</td>\n",
       "      <td>4005</td>\n",
       "    </tr>\n",
       "    <tr>\n",
       "      <th>26</th>\n",
       "      <td>4004</td>\n",
       "      <td>73148.014179</td>\n",
       "      <td>8.663728e+07</td>\n",
       "      <td>POLYGON ((991923.9985961914 197615.7178344727,...</td>\n",
       "      <td>New York</td>\n",
       "      <td>3604004</td>\n",
       "      <td>85.5</td>\n",
       "      <td>1.9</td>\n",
       "      <td>4004</td>\n",
       "    </tr>\n",
       "    <tr>\n",
       "      <th>23</th>\n",
       "      <td>4001</td>\n",
       "      <td>74076.370458</td>\n",
       "      <td>1.149292e+08</td>\n",
       "      <td>POLYGON ((996887.8187866211 208559.3403930664,...</td>\n",
       "      <td>New York</td>\n",
       "      <td>3604001</td>\n",
       "      <td>70.6</td>\n",
       "      <td>2.8</td>\n",
       "      <td>4001</td>\n",
       "    </tr>\n",
       "    <tr>\n",
       "      <th>50</th>\n",
       "      <td>4110</td>\n",
       "      <td>71251.084697</td>\n",
       "      <td>2.050472e+08</td>\n",
       "      <td>POLYGON ((1012564.178039551 207131.8432006836,...</td>\n",
       "      <td>New York</td>\n",
       "      <td>3604110</td>\n",
       "      <td>82.6</td>\n",
       "      <td>2.2</td>\n",
       "      <td>4110</td>\n",
       "    </tr>\n",
       "    <tr>\n",
       "      <th>51</th>\n",
       "      <td>4111</td>\n",
       "      <td>56323.013991</td>\n",
       "      <td>1.326035e+08</td>\n",
       "      <td>POLYGON ((1034127.110595703 197845.3756103516,...</td>\n",
       "      <td>New York</td>\n",
       "      <td>3604111</td>\n",
       "      <td>83.8</td>\n",
       "      <td>2.3</td>\n",
       "      <td>4111</td>\n",
       "    </tr>\n",
       "    <tr>\n",
       "      <th>13</th>\n",
       "      <td>3804</td>\n",
       "      <td>62599.502332</td>\n",
       "      <td>6.461210e+07</td>\n",
       "      <td>(POLYGON ((1006028.597595215 231058.7962036133...</td>\n",
       "      <td>New York</td>\n",
       "      <td>3603804</td>\n",
       "      <td>75.2</td>\n",
       "      <td>3.5</td>\n",
       "      <td>3804</td>\n",
       "    </tr>\n",
       "    <tr>\n",
       "      <th>21</th>\n",
       "      <td>3902</td>\n",
       "      <td>153476.166311</td>\n",
       "      <td>6.760397e+08</td>\n",
       "      <td>POLYGON ((943379.2825927734 161026.615234375, ...</td>\n",
       "      <td>New York</td>\n",
       "      <td>3603902</td>\n",
       "      <td>80.1</td>\n",
       "      <td>3.4</td>\n",
       "      <td>3902</td>\n",
       "    </tr>\n",
       "  </tbody>\n",
       "</table>\n",
       "</div>"
      ],
      "text/plain": [
       "    PUMA     Shape_Leng    Shape_Area  \\\n",
       "49  4109   95285.371730  1.669799e+08   \n",
       "40  4018   76143.432445  9.599590e+07   \n",
       "11  3802   37925.007815  4.689674e+07   \n",
       "27  4005   95474.334642  1.145092e+08   \n",
       "26  4004   73148.014179  8.663728e+07   \n",
       "23  4001   74076.370458  1.149292e+08   \n",
       "50  4110   71251.084697  2.050472e+08   \n",
       "51  4111   56323.013991  1.326035e+08   \n",
       "13  3804   62599.502332  6.461210e+07   \n",
       "21  3902  153476.166311  6.760397e+08   \n",
       "\n",
       "                                             geometry GEO.display-label  \\\n",
       "49  POLYGON ((1011466.965820312 216463.0051879883,...          New York   \n",
       "40  POLYGON ((992169.2720336914 156843.4053955078,...          New York   \n",
       "11  POLYGON ((992248.5795898438 232849.4352416992,...          New York   \n",
       "27  POLYGON ((992656.6069946289 185330.0338134766,...          New York   \n",
       "26  POLYGON ((991923.9985961914 197615.7178344727,...          New York   \n",
       "23  POLYGON ((996887.8187866211 208559.3403930664,...          New York   \n",
       "50  POLYGON ((1012564.178039551 207131.8432006836,...          New York   \n",
       "51  POLYGON ((1034127.110595703 197845.3756103516,...          New York   \n",
       "13  (POLYGON ((1006028.597595215 231058.7962036133...          New York   \n",
       "21  POLYGON ((943379.2825927734 161026.615234375, ...          New York   \n",
       "\n",
       "    GCT_STUB.target-geo-id2  HC01 HC02  PUMA_id  \n",
       "49                  3604109  85.1  2.4     4109  \n",
       "40                  3604018  79.3  2.4     4018  \n",
       "11                  3603802  80.2  3.9     3802  \n",
       "27                  3604005  89.4  2.4     4005  \n",
       "26                  3604004  85.5  1.9     4004  \n",
       "23                  3604001  70.6  2.8     4001  \n",
       "50                  3604110  82.6  2.2     4110  \n",
       "51                  3604111  83.8  2.3     4111  \n",
       "13                  3603804  75.2  3.5     3804  \n",
       "21                  3603902  80.1  3.4     3902  "
      ]
     },
     "execution_count": 294,
     "metadata": {},
     "output_type": "execute_result"
    }
   ],
   "source": [
    "puma_df.sample(10, random_state= 123)"
   ]
  },
  {
   "cell_type": "code",
   "execution_count": 295,
   "metadata": {},
   "outputs": [
    {
     "data": {
      "text/plain": [
       "(55, 9)"
      ]
     },
     "execution_count": 295,
     "metadata": {},
     "output_type": "execute_result"
    }
   ],
   "source": [
    "puma_df.shape"
   ]
  },
  {
   "cell_type": "code",
   "execution_count": 296,
   "metadata": {},
   "outputs": [
    {
     "data": {
      "text/plain": [
       "PUMA                       0\n",
       "Shape_Leng                 0\n",
       "Shape_Area                 0\n",
       "geometry                   0\n",
       "GEO.display-label          0\n",
       "GCT_STUB.target-geo-id2    0\n",
       "HC01                       0\n",
       "HC02                       0\n",
       "PUMA_id                    0\n",
       "dtype: int64"
      ]
     },
     "execution_count": 296,
     "metadata": {},
     "output_type": "execute_result"
    }
   ],
   "source": [
    "# Check if there is any NULL values\n",
    "puma_df.isnull().sum()"
   ]
  },
  {
   "cell_type": "code",
   "execution_count": 329,
   "metadata": {},
   "outputs": [
    {
     "data": {
      "image/png": "[encoded data removed]",
      "text/plain": [
       "<matplotlib.figure.Figure at 0x12206ad50>"
      ]
     },
     "metadata": {},
     "output_type": "display_data"
    }
   ],
   "source": [
    "f, ax, cb = cp.choroplethNYC(puma_df, column=\"HC01\", kind = \"continuous\", cmap = \"viridis\");\n",
    "ax.set_title(\"Broadband Coverage across PUMA Areas\", size = 16);"
   ]
  },
  {
   "cell_type": "markdown",
   "metadata": {},
   "source": [
    "## Figure 2\n",
    "\n",
    "This is a choropleth of broadband access across each PUMA area. Light green indicates common access to broadband internet at home. Dark blue indicates limited access. The area with the poorest access is lower east Manhattan (only about 55%). This may due to the high density of lower income housing in the area. "
   ]
  },
  {
   "cell_type": "markdown",
   "metadata": {},
   "source": [
    "--- \n",
    "\n",
    "## 3) Process and Plot LinkNYC Locations"
   ]
  },
  {
   "cell_type": "code",
   "execution_count": 298,
   "metadata": {},
   "outputs": [],
   "source": [
    "url = \"https://www.dropbox.com/s/vv0qkn1pwwlw845/linkNYClocations.csv?dl=1\"\n",
    "\n",
    "linkNYC = pd.read_csv(url)\n",
    "del linkNYC['Unnamed: 0']\n",
    "linkNYC['date_link_'] = pd.to_datetime(linkNYC['date_link_'], infer_datetime_format= True)"
   ]
  },
  {
   "cell_type": "code",
   "execution_count": 299,
   "metadata": {},
   "outputs": [
    {
     "data": {
      "text/html": [
       "<div>\n",
       "<style>\n",
       "    .dataframe thead tr:only-child th {\n",
       "        text-align: right;\n",
       "    }\n",
       "\n",
       "    .dataframe thead th {\n",
       "        text-align: left;\n",
       "    }\n",
       "\n",
       "    .dataframe tbody tr th {\n",
       "        vertical-align: top;\n",
       "    }\n",
       "</style>\n",
       "<table border=\"1\" class=\"dataframe\">\n",
       "  <thead>\n",
       "    <tr style=\"text-align: right;\">\n",
       "      <th></th>\n",
       "      <th>link_site</th>\n",
       "      <th>longitude</th>\n",
       "      <th>date_link_</th>\n",
       "      <th>latitude</th>\n",
       "    </tr>\n",
       "  </thead>\n",
       "  <tbody>\n",
       "    <tr>\n",
       "      <th>351</th>\n",
       "      <td>mn-11-116230</td>\n",
       "      <td>-73.940035</td>\n",
       "      <td>2016-03-05</td>\n",
       "      <td>40.797709</td>\n",
       "    </tr>\n",
       "    <tr>\n",
       "      <th>155</th>\n",
       "      <td>mn-06-121733</td>\n",
       "      <td>-73.967774</td>\n",
       "      <td>2016-02-27</td>\n",
       "      <td>40.760135</td>\n",
       "    </tr>\n",
       "    <tr>\n",
       "      <th>824</th>\n",
       "      <td>mn-04-122466</td>\n",
       "      <td>-73.992870</td>\n",
       "      <td>2017-10-07</td>\n",
       "      <td>40.763385</td>\n",
       "    </tr>\n",
       "    <tr>\n",
       "      <th>1271</th>\n",
       "      <td>bx-01-145852</td>\n",
       "      <td>-73.929074</td>\n",
       "      <td>2017-06-10</td>\n",
       "      <td>40.808544</td>\n",
       "    </tr>\n",
       "    <tr>\n",
       "      <th>694</th>\n",
       "      <td>mn-12-120457</td>\n",
       "      <td>-73.940477</td>\n",
       "      <td>2016-07-15</td>\n",
       "      <td>40.834815</td>\n",
       "    </tr>\n",
       "    <tr>\n",
       "      <th>113</th>\n",
       "      <td>mn-06-121502</td>\n",
       "      <td>-73.978416</td>\n",
       "      <td>2016-02-06</td>\n",
       "      <td>40.745116</td>\n",
       "    </tr>\n",
       "    <tr>\n",
       "      <th>872</th>\n",
       "      <td>mn-03-139058</td>\n",
       "      <td>-73.988224</td>\n",
       "      <td>2017-08-26</td>\n",
       "      <td>40.723807</td>\n",
       "    </tr>\n",
       "    <tr>\n",
       "      <th>411</th>\n",
       "      <td>mn-07-121247</td>\n",
       "      <td>-73.977483</td>\n",
       "      <td>2016-04-22</td>\n",
       "      <td>40.786896</td>\n",
       "    </tr>\n",
       "    <tr>\n",
       "      <th>1128</th>\n",
       "      <td>mn-04-122482</td>\n",
       "      <td>-73.989215</td>\n",
       "      <td>2017-09-23</td>\n",
       "      <td>40.768406</td>\n",
       "    </tr>\n",
       "    <tr>\n",
       "      <th>161</th>\n",
       "      <td>mn-06-121490</td>\n",
       "      <td>-73.982886</td>\n",
       "      <td>2017-10-28</td>\n",
       "      <td>40.738827</td>\n",
       "    </tr>\n",
       "  </tbody>\n",
       "</table>\n",
       "</div>"
      ],
      "text/plain": [
       "         link_site  longitude date_link_   latitude\n",
       "351   mn-11-116230 -73.940035 2016-03-05  40.797709\n",
       "155   mn-06-121733 -73.967774 2016-02-27  40.760135\n",
       "824   mn-04-122466 -73.992870 2017-10-07  40.763385\n",
       "1271  bx-01-145852 -73.929074 2017-06-10  40.808544\n",
       "694   mn-12-120457 -73.940477 2016-07-15  40.834815\n",
       "113   mn-06-121502 -73.978416 2016-02-06  40.745116\n",
       "872   mn-03-139058 -73.988224 2017-08-26  40.723807\n",
       "411   mn-07-121247 -73.977483 2016-04-22  40.786896\n",
       "1128  mn-04-122482 -73.989215 2017-09-23  40.768406\n",
       "161   mn-06-121490 -73.982886 2017-10-28  40.738827"
      ]
     },
     "execution_count": 299,
     "metadata": {},
     "output_type": "execute_result"
    }
   ],
   "source": [
    "linkNYC.sample(10)"
   ]
  },
  {
   "cell_type": "code",
   "execution_count": 300,
   "metadata": {},
   "outputs": [
    {
     "data": {
      "text/plain": [
       "link_site             object\n",
       "longitude            float64\n",
       "date_link_    datetime64[ns]\n",
       "latitude             float64\n",
       "dtype: object"
      ]
     },
     "execution_count": 300,
     "metadata": {},
     "output_type": "execute_result"
    }
   ],
   "source": [
    "linkNYC.dtypes"
   ]
  },
  {
   "cell_type": "code",
   "execution_count": 301,
   "metadata": {},
   "outputs": [],
   "source": [
    "# Create lat/long column\n",
    "\n",
    "def lonlat(x1, x2):\n",
    "    \n",
    "    return \"(\" + str(x1) + \", \" + str(x2) + \")\"\n",
    "\n",
    "linkNYC['lonlat'] = linkNYC[['longitude', 'latitude']].apply(lambda row: lonlat(row['longitude'], row['latitude']),\n",
    "                                                            axis = 1)"
   ]
  },
  {
   "cell_type": "code",
   "execution_count": 360,
   "metadata": {},
   "outputs": [],
   "source": [
    "from shapely.geometry import Point\n",
    "\n",
    "linkNYC['geometry'] = linkNYC.apply(lambda x: Point((float(x.longitude), float(x.latitude))), axis = 1)\n",
    "geoLinkNYC = gpd.GeoDataFrame(linkNYC, geometry = 'geometry', crs = {'init': 'epsg:4326'})"
   ]
  },
  {
   "cell_type": "code",
   "execution_count": 303,
   "metadata": {},
   "outputs": [
    {
     "data": {
      "text/html": [
       "<div>\n",
       "<style>\n",
       "    .dataframe thead tr:only-child th {\n",
       "        text-align: right;\n",
       "    }\n",
       "\n",
       "    .dataframe thead th {\n",
       "        text-align: left;\n",
       "    }\n",
       "\n",
       "    .dataframe tbody tr th {\n",
       "        vertical-align: top;\n",
       "    }\n",
       "</style>\n",
       "<table border=\"1\" class=\"dataframe\">\n",
       "  <thead>\n",
       "    <tr style=\"text-align: right;\">\n",
       "      <th></th>\n",
       "      <th>link_site</th>\n",
       "      <th>longitude</th>\n",
       "      <th>date_link_</th>\n",
       "      <th>latitude</th>\n",
       "      <th>lonlat</th>\n",
       "      <th>geometry</th>\n",
       "    </tr>\n",
       "  </thead>\n",
       "  <tbody>\n",
       "    <tr>\n",
       "      <th>659</th>\n",
       "      <td>mn-09-134416</td>\n",
       "      <td>-73.949640</td>\n",
       "      <td>2017-08-13</td>\n",
       "      <td>40.822633</td>\n",
       "      <td>(-73.94964029, 40.82263345)</td>\n",
       "      <td>POINT (-73.94964029 40.82263345)</td>\n",
       "    </tr>\n",
       "    <tr>\n",
       "      <th>952</th>\n",
       "      <td>mn-11-100200</td>\n",
       "      <td>-73.946762</td>\n",
       "      <td>2016-10-15</td>\n",
       "      <td>40.800070</td>\n",
       "      <td>(-73.946762, 40.80007)</td>\n",
       "      <td>POINT (-73.94676199999998 40.80007)</td>\n",
       "    </tr>\n",
       "    <tr>\n",
       "      <th>645</th>\n",
       "      <td>mn-09-120396</td>\n",
       "      <td>-73.965995</td>\n",
       "      <td>2016-06-24</td>\n",
       "      <td>40.804835</td>\n",
       "      <td>(-73.965995, 40.804835)</td>\n",
       "      <td>POINT (-73.96599499999998 40.804835)</td>\n",
       "    </tr>\n",
       "    <tr>\n",
       "      <th>1096</th>\n",
       "      <td>qu-04-125322</td>\n",
       "      <td>-73.876523</td>\n",
       "      <td>2017-07-22</td>\n",
       "      <td>40.748350</td>\n",
       "      <td>(-73.8765226837, 40.7483497521)</td>\n",
       "      <td>POINT (-73.8765226837 40.7483497521)</td>\n",
       "    </tr>\n",
       "    <tr>\n",
       "      <th>348</th>\n",
       "      <td>mn-11-107915</td>\n",
       "      <td>-73.942397</td>\n",
       "      <td>2016-07-02</td>\n",
       "      <td>40.794911</td>\n",
       "      <td>(-73.94239654, 40.79491138)</td>\n",
       "      <td>POINT (-73.94239654 40.79491138)</td>\n",
       "    </tr>\n",
       "    <tr>\n",
       "      <th>1332</th>\n",
       "      <td>bk-01-145859</td>\n",
       "      <td>-73.947627</td>\n",
       "      <td>2017-06-30</td>\n",
       "      <td>40.720111</td>\n",
       "      <td>(-73.947627, 40.720111)</td>\n",
       "      <td>POINT (-73.947627 40.720111)</td>\n",
       "    </tr>\n",
       "    <tr>\n",
       "      <th>985</th>\n",
       "      <td>mn-09-135244</td>\n",
       "      <td>-73.945775</td>\n",
       "      <td>2017-10-19</td>\n",
       "      <td>40.827925</td>\n",
       "      <td>(-73.94577543, 40.82792507)</td>\n",
       "      <td>POINT (-73.94577543 40.82792507)</td>\n",
       "    </tr>\n",
       "    <tr>\n",
       "      <th>767</th>\n",
       "      <td>mn-05-107760</td>\n",
       "      <td>-73.986207</td>\n",
       "      <td>2017-07-29</td>\n",
       "      <td>40.746709</td>\n",
       "      <td>(-73.98620711, 40.74670887)</td>\n",
       "      <td>POINT (-73.98620711 40.74670887)</td>\n",
       "    </tr>\n",
       "    <tr>\n",
       "      <th>514</th>\n",
       "      <td>mn-09-120371</td>\n",
       "      <td>-73.953041</td>\n",
       "      <td>2016-06-17</td>\n",
       "      <td>40.823326</td>\n",
       "      <td>(-73.953041, 40.823326)</td>\n",
       "      <td>POINT (-73.953041 40.823326)</td>\n",
       "    </tr>\n",
       "    <tr>\n",
       "      <th>165</th>\n",
       "      <td>mn-04-135039</td>\n",
       "      <td>-74.001807</td>\n",
       "      <td>2017-06-10</td>\n",
       "      <td>40.740531</td>\n",
       "      <td>(-74.001807, 40.740531)</td>\n",
       "      <td>POINT (-74.001807 40.740531)</td>\n",
       "    </tr>\n",
       "  </tbody>\n",
       "</table>\n",
       "</div>"
      ],
      "text/plain": [
       "         link_site  longitude date_link_   latitude  \\\n",
       "659   mn-09-134416 -73.949640 2017-08-13  40.822633   \n",
       "952   mn-11-100200 -73.946762 2016-10-15  40.800070   \n",
       "645   mn-09-120396 -73.965995 2016-06-24  40.804835   \n",
       "1096  qu-04-125322 -73.876523 2017-07-22  40.748350   \n",
       "348   mn-11-107915 -73.942397 2016-07-02  40.794911   \n",
       "1332  bk-01-145859 -73.947627 2017-06-30  40.720111   \n",
       "985   mn-09-135244 -73.945775 2017-10-19  40.827925   \n",
       "767   mn-05-107760 -73.986207 2017-07-29  40.746709   \n",
       "514   mn-09-120371 -73.953041 2016-06-17  40.823326   \n",
       "165   mn-04-135039 -74.001807 2017-06-10  40.740531   \n",
       "\n",
       "                               lonlat                              geometry  \n",
       "659       (-73.94964029, 40.82263345)      POINT (-73.94964029 40.82263345)  \n",
       "952            (-73.946762, 40.80007)   POINT (-73.94676199999998 40.80007)  \n",
       "645           (-73.965995, 40.804835)  POINT (-73.96599499999998 40.804835)  \n",
       "1096  (-73.8765226837, 40.7483497521)  POINT (-73.8765226837 40.7483497521)  \n",
       "348       (-73.94239654, 40.79491138)      POINT (-73.94239654 40.79491138)  \n",
       "1332          (-73.947627, 40.720111)          POINT (-73.947627 40.720111)  \n",
       "985       (-73.94577543, 40.82792507)      POINT (-73.94577543 40.82792507)  \n",
       "767       (-73.98620711, 40.74670887)      POINT (-73.98620711 40.74670887)  \n",
       "514           (-73.953041, 40.823326)          POINT (-73.953041 40.823326)  \n",
       "165           (-74.001807, 40.740531)          POINT (-74.001807 40.740531)  "
      ]
     },
     "execution_count": 303,
     "metadata": {},
     "output_type": "execute_result"
    }
   ],
   "source": [
    "geoLinkNYC.sample(10)"
   ]
  },
  {
   "cell_type": "code",
   "execution_count": 285,
   "metadata": {},
   "outputs": [
    {
     "data": {
      "text/plain": [
       "link_site             object\n",
       "longitude            float64\n",
       "date_link_    datetime64[ns]\n",
       "latitude             float64\n",
       "lonlat                object\n",
       "geometry              object\n",
       "dtype: object"
      ]
     },
     "execution_count": 285,
     "metadata": {},
     "output_type": "execute_result"
    }
   ],
   "source": [
    "geoLinkNYC.dtypes"
   ]
  },
  {
   "cell_type": "code",
   "execution_count": 304,
   "metadata": {},
   "outputs": [
    {
     "data": {
      "text/plain": [
       "(77.76, 85.38]     21\n",
       "(70.14, 77.76]     16\n",
       "(85.38, 93.0]      13\n",
       "(62.52, 70.14]      4\n",
       "(54.862, 62.52]     1\n",
       "Name: BB_bins, dtype: int64"
      ]
     },
     "execution_count": 304,
     "metadata": {},
     "output_type": "execute_result"
    }
   ],
   "source": [
    "# Create 5 bins for Broadband Access \n",
    "labels = [1, 2, 3, 4, 5]\n",
    "puma_df['BB_bins_label'] = pd.cut(puma_df['HC01'], bins = 5, labels = labels)\n",
    "puma_df['BB_bins'] = pd.cut(puma_df['HC01'], bins = 5).astype(str)\n",
    "puma_df['BB_bins'].value_counts()"
   ]
  },
  {
   "cell_type": "code",
   "execution_count": 305,
   "metadata": {},
   "outputs": [
    {
     "data": {
      "text/html": [
       "<div>\n",
       "<style>\n",
       "    .dataframe thead tr:only-child th {\n",
       "        text-align: right;\n",
       "    }\n",
       "\n",
       "    .dataframe thead th {\n",
       "        text-align: left;\n",
       "    }\n",
       "\n",
       "    .dataframe tbody tr th {\n",
       "        vertical-align: top;\n",
       "    }\n",
       "</style>\n",
       "<table border=\"1\" class=\"dataframe\">\n",
       "  <thead>\n",
       "    <tr style=\"text-align: right;\">\n",
       "      <th></th>\n",
       "      <th>PUMA</th>\n",
       "      <th>Shape_Leng</th>\n",
       "      <th>Shape_Area</th>\n",
       "      <th>geometry</th>\n",
       "      <th>GEO.display-label</th>\n",
       "      <th>GCT_STUB.target-geo-id2</th>\n",
       "      <th>HC01</th>\n",
       "      <th>HC02</th>\n",
       "      <th>PUMA_id</th>\n",
       "      <th>BB_bins_label</th>\n",
       "      <th>BB_bins</th>\n",
       "    </tr>\n",
       "  </thead>\n",
       "  <tbody>\n",
       "    <tr>\n",
       "      <th>41</th>\n",
       "      <td>4101</td>\n",
       "      <td>70492.955226</td>\n",
       "      <td>1.432420e+08</td>\n",
       "      <td>POLYGON ((1010148.118591309 227175.0521850586,...</td>\n",
       "      <td>New York</td>\n",
       "      <td>3604101</td>\n",
       "      <td>83.5</td>\n",
       "      <td>2.0</td>\n",
       "      <td>4101</td>\n",
       "      <td>4</td>\n",
       "      <td>(77.76, 85.38]</td>\n",
       "    </tr>\n",
       "    <tr>\n",
       "      <th>38</th>\n",
       "      <td>4016</td>\n",
       "      <td>109477.751822</td>\n",
       "      <td>1.207135e+08</td>\n",
       "      <td>POLYGON ((999782.7833862305 162246.8424072266,...</td>\n",
       "      <td>New York</td>\n",
       "      <td>3604016</td>\n",
       "      <td>85.2</td>\n",
       "      <td>1.9</td>\n",
       "      <td>4016</td>\n",
       "      <td>4</td>\n",
       "      <td>(77.76, 85.38]</td>\n",
       "    </tr>\n",
       "    <tr>\n",
       "      <th>48</th>\n",
       "      <td>4108</td>\n",
       "      <td>37997.476719</td>\n",
       "      <td>7.776948e+07</td>\n",
       "      <td>POLYGON ((1023565.041625977 198563.225402832, ...</td>\n",
       "      <td>New York</td>\n",
       "      <td>3604108</td>\n",
       "      <td>85.5</td>\n",
       "      <td>2.7</td>\n",
       "      <td>4108</td>\n",
       "      <td>5</td>\n",
       "      <td>(85.38, 93.0]</td>\n",
       "    </tr>\n",
       "    <tr>\n",
       "      <th>5</th>\n",
       "      <td>3706</td>\n",
       "      <td>51799.404764</td>\n",
       "      <td>4.388687e+07</td>\n",
       "      <td>POLYGON ((1008237.008422852 252471.6857910156,...</td>\n",
       "      <td>New York</td>\n",
       "      <td>3603706</td>\n",
       "      <td>74.7</td>\n",
       "      <td>3.6</td>\n",
       "      <td>3706</td>\n",
       "      <td>3</td>\n",
       "      <td>(70.14, 77.76]</td>\n",
       "    </tr>\n",
       "    <tr>\n",
       "      <th>47</th>\n",
       "      <td>4107</td>\n",
       "      <td>99947.733306</td>\n",
       "      <td>1.075122e+08</td>\n",
       "      <td>POLYGON ((1023873.126586914 217682.0093994141,...</td>\n",
       "      <td>New York</td>\n",
       "      <td>3604107</td>\n",
       "      <td>78.3</td>\n",
       "      <td>3.9</td>\n",
       "      <td>4107</td>\n",
       "      <td>4</td>\n",
       "      <td>(77.76, 85.38]</td>\n",
       "    </tr>\n",
       "    <tr>\n",
       "      <th>46</th>\n",
       "      <td>4106</td>\n",
       "      <td>79710.157878</td>\n",
       "      <td>2.072137e+08</td>\n",
       "      <td>POLYGON ((1034006.05279541 198020.8815917969, ...</td>\n",
       "      <td>New York</td>\n",
       "      <td>3604106</td>\n",
       "      <td>84.7</td>\n",
       "      <td>2.9</td>\n",
       "      <td>4106</td>\n",
       "      <td>4</td>\n",
       "      <td>(77.76, 85.38]</td>\n",
       "    </tr>\n",
       "    <tr>\n",
       "      <th>19</th>\n",
       "      <td>3810</td>\n",
       "      <td>122322.548613</td>\n",
       "      <td>8.092686e+07</td>\n",
       "      <td>(POLYGON ((981219.0557861328 188655.3157958984...</td>\n",
       "      <td>New York</td>\n",
       "      <td>3603810</td>\n",
       "      <td>93.0</td>\n",
       "      <td>1.7</td>\n",
       "      <td>3810</td>\n",
       "      <td>5</td>\n",
       "      <td>(85.38, 93.0]</td>\n",
       "    </tr>\n",
       "    <tr>\n",
       "      <th>40</th>\n",
       "      <td>4018</td>\n",
       "      <td>76143.432445</td>\n",
       "      <td>9.599590e+07</td>\n",
       "      <td>POLYGON ((992169.2720336914 156843.4053955078,...</td>\n",
       "      <td>New York</td>\n",
       "      <td>3604018</td>\n",
       "      <td>79.3</td>\n",
       "      <td>2.4</td>\n",
       "      <td>4018</td>\n",
       "      <td>4</td>\n",
       "      <td>(77.76, 85.38]</td>\n",
       "    </tr>\n",
       "    <tr>\n",
       "      <th>33</th>\n",
       "      <td>4011</td>\n",
       "      <td>34983.357777</td>\n",
       "      <td>4.763299e+07</td>\n",
       "      <td>POLYGON ((994756.0137939453 180903.2802124023,...</td>\n",
       "      <td>New York</td>\n",
       "      <td>3604011</td>\n",
       "      <td>74.8</td>\n",
       "      <td>3.5</td>\n",
       "      <td>4011</td>\n",
       "      <td>3</td>\n",
       "      <td>(70.14, 77.76]</td>\n",
       "    </tr>\n",
       "    <tr>\n",
       "      <th>30</th>\n",
       "      <td>4008</td>\n",
       "      <td>98346.817408</td>\n",
       "      <td>1.643642e+08</td>\n",
       "      <td>(POLYGON ((1015251.087036133 174914.5614013672...</td>\n",
       "      <td>New York</td>\n",
       "      <td>3604008</td>\n",
       "      <td>77.0</td>\n",
       "      <td>2.9</td>\n",
       "      <td>4008</td>\n",
       "      <td>3</td>\n",
       "      <td>(70.14, 77.76]</td>\n",
       "    </tr>\n",
       "  </tbody>\n",
       "</table>\n",
       "</div>"
      ],
      "text/plain": [
       "    PUMA     Shape_Leng    Shape_Area  \\\n",
       "41  4101   70492.955226  1.432420e+08   \n",
       "38  4016  109477.751822  1.207135e+08   \n",
       "48  4108   37997.476719  7.776948e+07   \n",
       "5   3706   51799.404764  4.388687e+07   \n",
       "47  4107   99947.733306  1.075122e+08   \n",
       "46  4106   79710.157878  2.072137e+08   \n",
       "19  3810  122322.548613  8.092686e+07   \n",
       "40  4018   76143.432445  9.599590e+07   \n",
       "33  4011   34983.357777  4.763299e+07   \n",
       "30  4008   98346.817408  1.643642e+08   \n",
       "\n",
       "                                             geometry GEO.display-label  \\\n",
       "41  POLYGON ((1010148.118591309 227175.0521850586,...          New York   \n",
       "38  POLYGON ((999782.7833862305 162246.8424072266,...          New York   \n",
       "48  POLYGON ((1023565.041625977 198563.225402832, ...          New York   \n",
       "5   POLYGON ((1008237.008422852 252471.6857910156,...          New York   \n",
       "47  POLYGON ((1023873.126586914 217682.0093994141,...          New York   \n",
       "46  POLYGON ((1034006.05279541 198020.8815917969, ...          New York   \n",
       "19  (POLYGON ((981219.0557861328 188655.3157958984...          New York   \n",
       "40  POLYGON ((992169.2720336914 156843.4053955078,...          New York   \n",
       "33  POLYGON ((994756.0137939453 180903.2802124023,...          New York   \n",
       "30  (POLYGON ((1015251.087036133 174914.5614013672...          New York   \n",
       "\n",
       "    GCT_STUB.target-geo-id2  HC01 HC02  PUMA_id BB_bins_label         BB_bins  \n",
       "41                  3604101  83.5  2.0     4101             4  (77.76, 85.38]  \n",
       "38                  3604016  85.2  1.9     4016             4  (77.76, 85.38]  \n",
       "48                  3604108  85.5  2.7     4108             5   (85.38, 93.0]  \n",
       "5                   3603706  74.7  3.6     3706             3  (70.14, 77.76]  \n",
       "47                  3604107  78.3  3.9     4107             4  (77.76, 85.38]  \n",
       "46                  3604106  84.7  2.9     4106             4  (77.76, 85.38]  \n",
       "19                  3603810  93.0  1.7     3810             5   (85.38, 93.0]  \n",
       "40                  3604018  79.3  2.4     4018             4  (77.76, 85.38]  \n",
       "33                  3604011  74.8  3.5     4011             3  (70.14, 77.76]  \n",
       "30                  3604008  77.0  2.9     4008             3  (70.14, 77.76]  "
      ]
     },
     "execution_count": 305,
     "metadata": {},
     "output_type": "execute_result"
    }
   ],
   "source": [
    "puma_df.sample(10)"
   ]
  },
  {
   "cell_type": "code",
   "execution_count": 306,
   "metadata": {},
   "outputs": [
    {
     "data": {
      "text/plain": [
       "PUMA                          int64\n",
       "Shape_Leng                  float64\n",
       "Shape_Area                  float64\n",
       "geometry                     object\n",
       "GEO.display-label            object\n",
       "GCT_STUB.target-geo-id2       int64\n",
       "HC01                        float64\n",
       "HC02                         object\n",
       "PUMA_id                       int64\n",
       "BB_bins_label              category\n",
       "BB_bins                      object\n",
       "dtype: object"
      ]
     },
     "execution_count": 306,
     "metadata": {},
     "output_type": "execute_result"
    }
   ],
   "source": [
    "puma_df.dtypes"
   ]
  },
  {
   "cell_type": "code",
   "execution_count": 363,
   "metadata": {},
   "outputs": [
    {
     "data": {
      "text/plain": [
       "{'init': 'epsg:4326'}"
      ]
     },
     "execution_count": 363,
     "metadata": {},
     "output_type": "execute_result"
    }
   ],
   "source": [
    "puma_df.crs"
   ]
  },
  {
   "cell_type": "code",
   "execution_count": 364,
   "metadata": {},
   "outputs": [
    {
     "data": {
      "text/plain": [
       "{'init': 'epsg:4326'}"
      ]
     },
     "execution_count": 364,
     "metadata": {},
     "output_type": "execute_result"
    }
   ],
   "source": [
    "geoLinkNYC.crs"
   ]
  },
  {
   "cell_type": "code",
   "execution_count": 359,
   "metadata": {},
   "outputs": [
    {
     "data": {
      "image/png": "[encoded data removed]",
      "text/plain": [
       "<matplotlib.figure.Figure at 0x1242ccbd0>"
      ]
     },
     "metadata": {},
     "output_type": "display_data"
    }
   ],
   "source": [
    "f, ax = plt.subplots()\n",
    "ax.get_xaxis().set_visible(False)\n",
    "ax.get_yaxis().set_visible(False)\n",
    "ax = puma_df.plot(column = 'HC01', cmap = 'bone', alpha = 0.7, edgecolor = 'black', linewidth = 0.1,\n",
    "                 ax = ax, scheme = 'Equal_interval', legend = True, k = 5)\n",
    "geoLinkNYC.plot(ax = ax, marker = '.', c = geoLinkNYC.date_link_, cmap = 'viridis')\n",
    "plt.legend(loc = 2)\n",
    "leg = ax.get_legend()\n",
    "leg.set_bbox_to_anchor((0.35, 0.95, 0, 0))\n",
    "plt.show()\n"
   ]
  }
 ],
 "metadata": {
  "kernelspec": {
   "display_name": "Python 2",
   "language": "python",
   "name": "python2"
  },
  "language_info": {
   "codemirror_mode": {
    "name": "ipython",
    "version": 2
   },
   "file_extension": ".py",
   "mimetype": "text/x-python",
   "name": "python",
   "nbconvert_exporter": "python",
   "pygments_lexer": "ipython2",
   "version": "2.7.13"
  }
 },
 "nbformat": 4,
 "nbformat_minor": 2
}
